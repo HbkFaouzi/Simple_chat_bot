{
 "cells": [
  {
   "cell_type": "markdown",
   "id": "3025ecb5-16a8-4095-847f-4cbf059cbce1",
   "metadata": {},
   "source": [
    "## 1. Import libaries"
   ]
  },
  {
   "cell_type": "code",
   "execution_count": 1,
   "id": "e4c21473-5d87-4891-bded-3b00faccc871",
   "metadata": {},
   "outputs": [],
   "source": [
    "import re\n",
    "import random"
   ]
  },
  {
   "cell_type": "markdown",
   "id": "6ae4d8b6-a5b3-4fa0-81f5-c9302b2524ba",
   "metadata": {
    "tags": []
   },
   "source": [
    "## 2. Create long responses and unknown answers"
   ]
  },
  {
   "cell_type": "code",
   "execution_count": 2,
   "id": "c19cfacf-8841-4c77-a108-be069de4c1a5",
   "metadata": {},
   "outputs": [],
   "source": [
    "R_EATING = \"I don't like eating anything because I'm a bot obviously!\"\n",
    "R_ADVICE = \"If I were you, I would go to internet and type exactly what you wrote there!\"\n",
    "R_DOING = \"I am a bot and I am here to help you\"\n",
    "\n",
    "\n",
    "def unknown():\n",
    "    response = ['Could you please re-phrase that?',\n",
    "                'What do you mean?',\n",
    "                '...',\n",
    "                'Sounds about right',\n",
    "                'What does that mean?'][random.randrange(5)]\n",
    "    return response"
   ]
  },
  {
   "cell_type": "markdown",
   "id": "4ff135e2-8de5-4a6c-b967-3446343efac6",
   "metadata": {},
   "source": [
    "## 3. Check messages and find the most appropriate responses"
   ]
  },
  {
   "cell_type": "code",
   "execution_count": 3,
   "id": "bd47d90f-faa2-49e3-a687-b076ad68e4a5",
   "metadata": {},
   "outputs": [],
   "source": [
    "def message_probability(user_message,recognised_words, single_response = False, required_word=[]):\n",
    "    message_certainty = 0\n",
    "    has_requires_word = True\n",
    "\n",
    "    # Count number of words present in each predefined message\n",
    "    for word in user_message:\n",
    "        if word in recognised_words:\n",
    "            message_certainty +=1\n",
    "\n",
    "    # Calculates the percentage of recognized words in a message\n",
    "    percentage = float(message_certainty) / float(len(recognised_words))\n",
    "    \n",
    "    # Checks that the required words are in the string\n",
    "    for word in required_word:\n",
    "        if word not in user_message:\n",
    "            has_requires_word = False\n",
    "            break\n",
    "\n",
    "    if has_requires_word or single_response:\n",
    "        return int(percentage*100)\n",
    "    else:\n",
    "        return 0\n",
    "\n"
   ]
  },
  {
   "cell_type": "markdown",
   "id": "f251f8b7-e849-480b-a51a-95da364d7537",
   "metadata": {},
   "source": [
    "## 4. Check the probability of the message and response"
   ]
  },
  {
   "cell_type": "code",
   "execution_count": 4,
   "id": "eb2dde00-c0ef-49cd-8860-ef9b85b56594",
   "metadata": {},
   "outputs": [],
   "source": [
    "def check_all_messages(message):\n",
    "    highest_prob_list = {}\n",
    "\n",
    "    def response(bot_response, list_of_words,single_response = False, required_words = []):\n",
    "        nonlocal highest_prob_list\n",
    "        highest_prob_list[bot_response] = message_probability(message, list_of_words, single_response, required_words)\n",
    "\n",
    "    # Response _______________\n",
    "    response('Hello!',['hello', 'hi', 'sup', 'hey', 'heyo', 'what\\'s up', 'heho'], single_response=True)\n",
    "    response('I\\'m doing fine, and you', ['how','are','you','doing'], required_words=['how'])\n",
    "    response('thank you', ['i', 'love', 'code', 'palace'], required_words=['code','palace' ])\n",
    "    response('You\\'re welcome!',['thanks', 'thank'], single_response=True)\n",
    "    response('See you!',['bye', 'goodbye'], single_response=True)\n",
    "    response('Happy to hear it!',['fine', 'good'], single_response=True)\n",
    "    response(\"i've been great. what about you?\", ['how', 'have', 'you', 'been'], required_words=['how','been' ])\n",
    "\n",
    "    # long responses\n",
    "    response(R_ADVICE, ['give','advice'], required_words=['advice'])\n",
    "    response(R_ADVICE, ['Can','you'], required_words=['can'])\n",
    "    response(R_DOING,['what','you','doing'], required_words=['you','doing'])\n",
    "    response(R_EATING,['what','you','eat'], required_words=['you','eat'])\n",
    "\n",
    "    best_match = max(highest_prob_list, key=highest_prob_list.get)\n",
    "    #print(highest_prob_list)\n",
    "\n",
    "    return unknown() if highest_prob_list[best_match] < 1 else best_match\n",
    "\n"
   ]
  },
  {
   "cell_type": "markdown",
   "id": "605fccee-ec37-4dd9-9c57-fca584dbb4ee",
   "metadata": {},
   "source": [
    "## 5. Function to get user input"
   ]
  },
  {
   "cell_type": "code",
   "execution_count": 5,
   "id": "86543173-1d45-4d5d-8d20-807c42fef688",
   "metadata": {},
   "outputs": [],
   "source": [
    "def get_response(user_input):\n",
    "    slpit_message = re.split(r'\\s+|[,;?!.-]\\s*', user_input.lower())\n",
    "    response = check_all_messages(slpit_message)\n",
    "    return response   "
   ]
  },
  {
   "cell_type": "markdown",
   "id": "bbcb43f1-ed07-4116-bc9d-93a115b5d24b",
   "metadata": {},
   "source": [
    "## 6. Exmaple"
   ]
  },
  {
   "cell_type": "code",
   "execution_count": 6,
   "id": "d9d04077-3aad-475d-a930-ffae57079bf3",
   "metadata": {},
   "outputs": [
    {
     "name": "stdin",
     "output_type": "stream",
     "text": [
      "You: Hi\n"
     ]
    },
    {
     "name": "stdout",
     "output_type": "stream",
     "text": [
      "Bot: Hello!\n"
     ]
    },
    {
     "name": "stdin",
     "output_type": "stream",
     "text": [
      "You: how you doing?\n"
     ]
    },
    {
     "name": "stdout",
     "output_type": "stream",
     "text": [
      "Bot: I'm doing fine, and you\n"
     ]
    },
    {
     "name": "stdin",
     "output_type": "stream",
     "text": [
      "You: I am fine\n"
     ]
    },
    {
     "name": "stdout",
     "output_type": "stream",
     "text": [
      "Bot: Happy to hear it!\n"
     ]
    },
    {
     "name": "stdin",
     "output_type": "stream",
     "text": [
      "You: What are you doing?\n"
     ]
    },
    {
     "name": "stdout",
     "output_type": "stream",
     "text": [
      "Bot: I am a bot and I am here to help you\n"
     ]
    },
    {
     "name": "stdin",
     "output_type": "stream",
     "text": [
      "You: What do you like to eat?\n"
     ]
    },
    {
     "name": "stdout",
     "output_type": "stream",
     "text": [
      "Bot: I don't like eating anything because I'm a bot obviously!\n"
     ]
    },
    {
     "name": "stdin",
     "output_type": "stream",
     "text": [
      "You: Can you call Brice?\n"
     ]
    },
    {
     "name": "stdout",
     "output_type": "stream",
     "text": [
      "Bot: If I were you, I would go to internet and type exactly what you wrote there!\n"
     ]
    },
    {
     "name": "stdin",
     "output_type": "stream",
     "text": [
      "You: Thank you\n"
     ]
    },
    {
     "name": "stdout",
     "output_type": "stream",
     "text": [
      "Bot: You're welcome!\n"
     ]
    },
    {
     "name": "stdin",
     "output_type": "stream",
     "text": [
      "You: Bye\n"
     ]
    },
    {
     "name": "stdout",
     "output_type": "stream",
     "text": [
      "Bot: See you!\n"
     ]
    }
   ],
   "source": [
    "while True:\n",
    "    a = input('You:')\n",
    "    print('Bot: ' + get_response(a))\n",
    "    if a =='Bye' or a == 'bye':\n",
    "        break"
   ]
  }
 ],
 "metadata": {
  "kernelspec": {
   "display_name": "Python 3 (ipykernel)",
   "language": "python",
   "name": "python3"
  },
  "language_info": {
   "codemirror_mode": {
    "name": "ipython",
    "version": 3
   },
   "file_extension": ".py",
   "mimetype": "text/x-python",
   "name": "python",
   "nbconvert_exporter": "python",
   "pygments_lexer": "ipython3",
   "version": "3.9.12"
  }
 },
 "nbformat": 4,
 "nbformat_minor": 5
}
